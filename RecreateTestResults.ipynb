{
 "cells": [
  {
   "cell_type": "code",
   "execution_count": 1,
   "metadata": {},
   "outputs": [],
   "source": [
    "#imports\n",
    "import tensorflow as tf\n",
    "from tensorflow import keras\n",
    "from keras.models import Sequential\n",
    "from keras.layers import Dropout, Conv2D, MaxPooling2D, Activation, Dense, Flatten, BatchNormalization\n",
    "from keras.preprocessing import image\n",
    "from keras.preprocessing.image import ImageDataGenerator\n",
    "from sklearn.metrics import classification_report, confusion_matrix\n",
    "import matplotlib.pyplot as mpl\n",
    "import numpy as np\n",
    "#import pandas as pd"
   ]
  },
  {
   "cell_type": "code",
   "execution_count": 2,
   "metadata": {},
   "outputs": [
    {
     "name": "stdout",
     "output_type": "stream",
     "text": [
      "Found 2513 images belonging to 2 classes.\n"
     ]
    }
   ],
   "source": [
    "batch_size = 256\n",
    "# create generator\n",
    "test_gen = ImageDataGenerator(rescale=1./255)\n",
    "# prepare an iterators for each dataset\n",
    "test_datagen = test_gen.flow_from_directory('./TEST',\n",
    "                                     target_size=(128, 128),\n",
    "                                     batch_size= batch_size,\n",
    "                                     class_mode='binary')"
   ]
  },
  {
   "cell_type": "code",
   "execution_count": 8,
   "metadata": {},
   "outputs": [],
   "source": [
    "#Run cell to load models\n",
    "M1=keras.models.load_model('./MODEL/model1.h5')\n",
    "M2=keras.models.load_model('./MODEL/model2.h5')"
   ]
  },
  {
   "cell_type": "code",
   "execution_count": 11,
   "metadata": {},
   "outputs": [
    {
     "name": "stdout",
     "output_type": "stream",
     "text": [
      "10/10 [==============================] - 7s 690ms/step - loss: 0.2810 - accuracy: 0.8890\n"
     ]
    }
   ],
   "source": [
    "#Run cell to test Model1\n",
    "test_loss, test_acc = M1.evaluate(test_datagen, verbose=1)"
   ]
  },
  {
   "cell_type": "code",
   "execution_count": 12,
   "metadata": {},
   "outputs": [
    {
     "name": "stdout",
     "output_type": "stream",
     "text": [
      "10/10 [==============================] - 11s 1s/step - loss: 0.2826 - accuracy: 0.8985\n"
     ]
    }
   ],
   "source": [
    "#Run cell to test Model2\n",
    "test_loss, test_acc = M2.evaluate(test_datagen, verbose=1)"
   ]
  }
 ],
 "metadata": {
  "interpreter": {
   "hash": "80be740d66741c06eef3344357ce31b900734bffa91634ceac4db71ba13ac5f4"
  },
  "kernelspec": {
   "display_name": "Python 3.6.4 32-bit",
   "language": "python",
   "name": "python3"
  },
  "language_info": {
   "codemirror_mode": {
    "name": "ipython",
    "version": 3
   },
   "file_extension": ".py",
   "mimetype": "text/x-python",
   "name": "python",
   "nbconvert_exporter": "python",
   "pygments_lexer": "ipython3",
   "version": "3.9.7"
  },
  "orig_nbformat": 4
 },
 "nbformat": 4,
 "nbformat_minor": 2
}
