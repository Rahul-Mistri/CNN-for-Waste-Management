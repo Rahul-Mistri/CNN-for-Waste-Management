{
  "cells": [
    {
      "cell_type": "code",
      "execution_count": 30,
      "metadata": {
        "id": "Jy8b1OPp99t3"
      },
      "outputs": [],
      "source": [
        "#imports\n",
        "import tensorflow as tf\n",
        "from tensorflow import keras\n",
        "from keras.models import Sequential\n",
        "from keras.layers import Dropout, Conv2D, MaxPooling2D, Activation, Dense, Flatten, BatchNormalization\n",
        "from keras.preprocessing import image\n",
        "from keras.preprocessing.image import ImageDataGenerator\n",
        "from sklearn.metrics import classification_report, confusion_matrix\n",
        "import matplotlib.pyplot as mpl\n",
        "import numpy as np\n",
        "#import pandas as pd"
      ]
    },
    {
      "cell_type": "code",
      "execution_count": 31,
      "metadata": {
        "colab": {
          "base_uri": "https://localhost:8080/"
        },
        "id": "SuG0jn8VbnCw",
        "outputId": "f46ef4f6-f5ef-4beb-c505-8802188bf951"
      },
      "outputs": [
        {
          "name": "stdout",
          "output_type": "stream",
          "text": [
            "Found 20052 images belonging to 2 classes.\n",
            "Found 2512 images belonging to 2 classes.\n",
            "Found 2513 images belonging to 2 classes.\n"
          ]
        }
      ],
      "source": [
        "batch_size = 256\n",
        "# create generator\n",
        "train_gen = ImageDataGenerator(validation_split = 0.1114, rescale=1./255)\n",
        "test_gen = ImageDataGenerator(rescale=1./255)\n",
        "# prepare an iterators for each dataset\n",
        "\n",
        "train_datagen = train_gen.flow_from_directory('./TRAIN',\n",
        "                                       target_size=(128, 128),\n",
        "                                       batch_size= batch_size,\n",
        "                                       class_mode='binary', \n",
        "                                       subset=\"training\"\n",
        "                                       )\n",
        "\n",
        "valid_datagen = train_gen.flow_from_directory('./TRAIN',\n",
        "                                       target_size=(128, 128),\n",
        "                                       batch_size= batch_size,\n",
        "                                       class_mode='binary', \n",
        "                                       subset=\"validation\"\n",
        "                                       )\n",
        "\n",
        "test_datagen = test_gen.flow_from_directory('./TEST',\n",
        "                                     target_size=(128, 128),\n",
        "                                     batch_size= batch_size,\n",
        "                                     class_mode='binary')\n"
      ]
    },
    {
      "cell_type": "code",
      "execution_count": 32,
      "metadata": {
        "colab": {
          "base_uri": "https://localhost:8080/"
        },
        "id": "5Vp0yNL93JXI",
        "outputId": "04a87c35-cb31-49ab-ff75-ab5a12a8351c"
      },
      "outputs": [
        {
          "name": "stdout",
          "output_type": "stream",
          "text": [
            "Model: \"sequential_27\"\n",
            "_________________________________________________________________\n",
            "Layer (type)                 Output Shape              Param #   \n",
            "=================================================================\n",
            "conv2d_61 (Conv2D)           (None, 32, 32, 96)        34944     \n",
            "_________________________________________________________________\n",
            "batch_normalization_9 (Batch (None, 32, 32, 96)        384       \n",
            "_________________________________________________________________\n",
            "activation_111 (Activation)  (None, 32, 32, 96)        0         \n",
            "_________________________________________________________________\n",
            "max_pooling2d_59 (MaxPooling (None, 16, 16, 96)        0         \n",
            "_________________________________________________________________\n",
            "conv2d_62 (Conv2D)           (None, 16, 16, 256)       614656    \n",
            "_________________________________________________________________\n",
            "batch_normalization_10 (Batc (None, 16, 16, 256)       1024      \n",
            "_________________________________________________________________\n",
            "activation_112 (Activation)  (None, 16, 16, 256)       0         \n",
            "_________________________________________________________________\n",
            "max_pooling2d_60 (MaxPooling (None, 8, 8, 256)         0         \n",
            "_________________________________________________________________\n",
            "conv2d_63 (Conv2D)           (None, 8, 8, 384)         885120    \n",
            "_________________________________________________________________\n",
            "batch_normalization_11 (Batc (None, 8, 8, 384)         1536      \n",
            "_________________________________________________________________\n",
            "activation_113 (Activation)  (None, 8, 8, 384)         0         \n",
            "_________________________________________________________________\n",
            "conv2d_64 (Conv2D)           (None, 8, 8, 384)         1327488   \n",
            "_________________________________________________________________\n",
            "batch_normalization_12 (Batc (None, 8, 8, 384)         1536      \n",
            "_________________________________________________________________\n",
            "activation_114 (Activation)  (None, 8, 8, 384)         0         \n",
            "_________________________________________________________________\n",
            "conv2d_65 (Conv2D)           (None, 8, 8, 256)         884992    \n",
            "_________________________________________________________________\n",
            "batch_normalization_13 (Batc (None, 8, 8, 256)         1024      \n",
            "_________________________________________________________________\n",
            "activation_115 (Activation)  (None, 8, 8, 256)         0         \n",
            "_________________________________________________________________\n",
            "max_pooling2d_61 (MaxPooling (None, 4, 4, 256)         0         \n",
            "_________________________________________________________________\n",
            "flatten_27 (Flatten)         (None, 4096)              0         \n",
            "_________________________________________________________________\n",
            "dense_81 (Dense)             (None, 4096)              16781312  \n",
            "_________________________________________________________________\n",
            "batch_normalization_14 (Batc (None, 4096)              16384     \n",
            "_________________________________________________________________\n",
            "activation_116 (Activation)  (None, 4096)              0         \n",
            "_________________________________________________________________\n",
            "dropout_65 (Dropout)         (None, 4096)              0         \n",
            "_________________________________________________________________\n",
            "dense_82 (Dense)             (None, 4096)              16781312  \n",
            "_________________________________________________________________\n",
            "batch_normalization_15 (Batc (None, 4096)              16384     \n",
            "_________________________________________________________________\n",
            "activation_117 (Activation)  (None, 4096)              0         \n",
            "_________________________________________________________________\n",
            "dropout_66 (Dropout)         (None, 4096)              0         \n",
            "_________________________________________________________________\n",
            "dense_83 (Dense)             (None, 1000)              4097000   \n",
            "_________________________________________________________________\n",
            "batch_normalization_16 (Batc (None, 1000)              4000      \n",
            "_________________________________________________________________\n",
            "activation_118 (Activation)  (None, 1000)              0         \n",
            "_________________________________________________________________\n",
            "dropout_67 (Dropout)         (None, 1000)              0         \n",
            "_________________________________________________________________\n",
            "dense_84 (Dense)             (None, 1)                 1001      \n",
            "_________________________________________________________________\n",
            "batch_normalization_17 (Batc (None, 1)                 4         \n",
            "_________________________________________________________________\n",
            "activation_119 (Activation)  (None, 1)                 0         \n",
            "=================================================================\n",
            "Total params: 41,450,101\n",
            "Trainable params: 41,428,963\n",
            "Non-trainable params: 21,138\n",
            "_________________________________________________________________\n"
          ]
        }
      ],
      "source": [
        "#Instantiation\n",
        "AlexNet = Sequential()\n",
        "\n",
        "#1st Convolutional Layer\n",
        "AlexNet.add(Conv2D(filters=96, input_shape=(128,128,3), kernel_size=(11,11), strides=(4,4), padding='same'))\n",
        "AlexNet.add(BatchNormalization())\n",
        "AlexNet.add(Activation('relu'))\n",
        "AlexNet.add(MaxPooling2D(pool_size=(2,2), strides=(2,2), padding='same'))\n",
        "\n",
        "#2nd Convolutional Layer\n",
        "AlexNet.add(Conv2D(filters=256, kernel_size=(5, 5), strides=(1,1), padding='same'))\n",
        "AlexNet.add(BatchNormalization())\n",
        "AlexNet.add(Activation('relu'))\n",
        "AlexNet.add(MaxPooling2D(pool_size=(2,2), strides=(2,2), padding='same'))\n",
        "\n",
        "#3rd Convolutional Layer\n",
        "AlexNet.add(Conv2D(filters=384, kernel_size=(3,3), strides=(1,1), padding='same'))\n",
        "AlexNet.add(BatchNormalization())\n",
        "AlexNet.add(Activation('relu'))\n",
        "\n",
        "#4th Convolutional Layer\n",
        "AlexNet.add(Conv2D(filters=384, kernel_size=(3,3), strides=(1,1), padding='same'))\n",
        "AlexNet.add(BatchNormalization())\n",
        "AlexNet.add(Activation('relu'))\n",
        "\n",
        "#5th Convolutional Layer\n",
        "AlexNet.add(Conv2D(filters=256, kernel_size=(3,3), strides=(1,1), padding='same'))\n",
        "AlexNet.add(BatchNormalization())\n",
        "AlexNet.add(Activation('relu'))\n",
        "AlexNet.add(MaxPooling2D(pool_size=(2,2), strides=(2,2), padding='same'))\n",
        "\n",
        "#Passing it to a Fully Connected layer\n",
        "AlexNet.add(Flatten())\n",
        "# 1st Fully Connected Layer\n",
        "AlexNet.add(Dense(4096, input_shape=(128,128,3)))\n",
        "AlexNet.add(BatchNormalization())\n",
        "AlexNet.add(Activation('relu'))\n",
        "# Add Dropout to prevent overfitting\n",
        "AlexNet.add(Dropout(0.5))\n",
        "\n",
        "#2nd Fully Connected Layer\n",
        "AlexNet.add(Dense(4096))\n",
        "AlexNet.add(BatchNormalization())\n",
        "AlexNet.add(Activation('relu'))\n",
        "#Add Dropout\n",
        "AlexNet.add(Dropout(0.5))\n",
        "\n",
        "#3rd Fully Connected Layer\n",
        "AlexNet.add(Dense(1000))\n",
        "AlexNet.add(BatchNormalization())\n",
        "AlexNet.add(Activation('relu'))\n",
        "#Add Dropout\n",
        "AlexNet.add(Dropout(0.5))\n",
        "\n",
        "#Output Layer\n",
        "AlexNet.add(Dense(1))\n",
        "AlexNet.add(BatchNormalization())\n",
        "AlexNet.add(Activation('sigmoid'))\n",
        "AlexNet.compile(\n",
        "    loss='binary_crossentropy',\n",
        "    optimizer='adam', \n",
        "    metrics=['accuracy'] \n",
        ")\n",
        "\n",
        "AlexNet.summary()"
      ]
    },
    {
      "cell_type": "code",
      "execution_count": 33,
      "metadata": {
        "colab": {
          "base_uri": "https://localhost:8080/"
        },
        "id": "0W_9qVvrHS_1",
        "outputId": "9258a9f8-b396-4395-d155-a71e97476038"
      },
      "outputs": [
        {
          "name": "stdout",
          "output_type": "stream",
          "text": [
            "Model: \"sequential_28\"\n",
            "_________________________________________________________________\n",
            "Layer (type)                 Output Shape              Param #   \n",
            "=================================================================\n",
            "conv2d_66 (Conv2D)           (None, 126, 126, 64)      1792      \n",
            "_________________________________________________________________\n",
            "activation_120 (Activation)  (None, 126, 126, 64)      0         \n",
            "_________________________________________________________________\n",
            "max_pooling2d_62 (MaxPooling (None, 63, 63, 64)        0         \n",
            "_________________________________________________________________\n",
            "flatten_28 (Flatten)         (None, 254016)            0         \n",
            "_________________________________________________________________\n",
            "dense_85 (Dense)             (None, 64)                16257088  \n",
            "_________________________________________________________________\n",
            "dropout_68 (Dropout)         (None, 64)                0         \n",
            "_________________________________________________________________\n",
            "dense_86 (Dense)             (None, 32)                2080      \n",
            "_________________________________________________________________\n",
            "dropout_69 (Dropout)         (None, 32)                0         \n",
            "_________________________________________________________________\n",
            "dense_87 (Dense)             (None, 1)                 33        \n",
            "_________________________________________________________________\n",
            "activation_121 (Activation)  (None, 1)                 0         \n",
            "=================================================================\n",
            "Total params: 16,260,993\n",
            "Trainable params: 16,260,993\n",
            "Non-trainable params: 0\n",
            "_________________________________________________________________\n"
          ]
        }
      ],
      "source": [
        "#MODEL 0\n",
        "\n",
        "model0 = Sequential()\n",
        "model0.add(Conv2D(filters=64, kernel_size=(3, 3), input_shape=(128, 128,3)))\n",
        "model0.add(Activation(\"relu\"))\n",
        "model0.add(MaxPooling2D(pool_size=(2,2)))\n",
        "model0.add(Flatten())\n",
        "model0.add(Dense(64))\n",
        "model0.add(Dropout(0.5))\n",
        "model0.add(Dense(32))\n",
        "model0.add(Dropout(0.5))\n",
        "model0.add(Dense(1))\n",
        "model0.add(Activation(\"sigmoid\"))\n",
        "model0.compile(\n",
        "    loss='binary_crossentropy',\n",
        "    optimizer='adam', \n",
        "    metrics=['accuracy'] \n",
        ")\n",
        "\n",
        "model0.summary()"
      ]
    },
    {
      "cell_type": "code",
      "execution_count": 34,
      "metadata": {},
      "outputs": [
        {
          "name": "stdout",
          "output_type": "stream",
          "text": [
            "Model: \"sequential_29\"\n",
            "_________________________________________________________________\n",
            "Layer (type)                 Output Shape              Param #   \n",
            "=================================================================\n",
            "conv2d_67 (Conv2D)           (None, 126, 126, 32)      896       \n",
            "_________________________________________________________________\n",
            "activation_122 (Activation)  (None, 126, 126, 32)      0         \n",
            "_________________________________________________________________\n",
            "max_pooling2d_63 (MaxPooling (None, 63, 63, 32)        0         \n",
            "_________________________________________________________________\n",
            "conv2d_68 (Conv2D)           (None, 61, 61, 32)        9248      \n",
            "_________________________________________________________________\n",
            "activation_123 (Activation)  (None, 61, 61, 32)        0         \n",
            "_________________________________________________________________\n",
            "max_pooling2d_64 (MaxPooling (None, 30, 30, 32)        0         \n",
            "_________________________________________________________________\n",
            "conv2d_69 (Conv2D)           (None, 28, 28, 32)        9248      \n",
            "_________________________________________________________________\n",
            "activation_124 (Activation)  (None, 28, 28, 32)        0         \n",
            "_________________________________________________________________\n",
            "max_pooling2d_65 (MaxPooling (None, 14, 14, 32)        0         \n",
            "_________________________________________________________________\n",
            "flatten_29 (Flatten)         (None, 6272)              0         \n",
            "_________________________________________________________________\n",
            "dense_88 (Dense)             (None, 256)               1605888   \n",
            "_________________________________________________________________\n",
            "activation_125 (Activation)  (None, 256)               0         \n",
            "_________________________________________________________________\n",
            "dropout_70 (Dropout)         (None, 256)               0         \n",
            "_________________________________________________________________\n",
            "dense_89 (Dense)             (None, 64)                16448     \n",
            "_________________________________________________________________\n",
            "activation_126 (Activation)  (None, 64)                0         \n",
            "_________________________________________________________________\n",
            "dropout_71 (Dropout)         (None, 64)                0         \n",
            "_________________________________________________________________\n",
            "dense_90 (Dense)             (None, 1)                 65        \n",
            "_________________________________________________________________\n",
            "activation_127 (Activation)  (None, 1)                 0         \n",
            "=================================================================\n",
            "Total params: 1,641,793\n",
            "Trainable params: 1,641,793\n",
            "Non-trainable params: 0\n",
            "_________________________________________________________________\n"
          ]
        }
      ],
      "source": [
        "model1 = Sequential()\n",
        "model1.add(Conv2D(filters=32,kernel_size=(3,3),input_shape = (128,128,3)))\n",
        "model1.add(Activation(\"relu\"))\n",
        "model1.add(MaxPooling2D())\n",
        "\n",
        "model1.add(Conv2D(filters=32,kernel_size=(3,3)))  \n",
        "model1.add(Activation(\"relu\"))\n",
        "model1.add(MaxPooling2D())\n",
        "\n",
        "model1.add(Conv2D(filters=32,kernel_size=(3,3)))\n",
        "model1.add(Activation(\"relu\"))\n",
        "model1.add(MaxPooling2D())\n",
        "\n",
        "model1.add(Flatten())\n",
        "model1.add(Dense(256))\n",
        "model1.add(Activation(\"relu\"))\n",
        "model1.add(Dropout(0.5))\n",
        "model1.add(Dense(64))\n",
        "model1.add(Activation(\"relu\"))\n",
        "model1.add(Dropout(0.5))\n",
        "model1.add(Dense(1))\n",
        "model1.add(Activation(\"sigmoid\"))\n",
        "\n",
        "model1.compile(loss = \"binary_crossentropy\",\n",
        "              optimizer = \"adam\",\n",
        "              metrics = [\"accuracy\"])\n",
        "\n",
        "model1.summary()"
      ]
    },
    {
      "cell_type": "code",
      "execution_count": 35,
      "metadata": {
        "id": "RKv3conv54_M"
      },
      "outputs": [
        {
          "name": "stdout",
          "output_type": "stream",
          "text": [
            "Model: \"sequential_30\"\n",
            "_________________________________________________________________\n",
            "Layer (type)                 Output Shape              Param #   \n",
            "=================================================================\n",
            "conv2d_70 (Conv2D)           (None, 126, 126, 32)      896       \n",
            "_________________________________________________________________\n",
            "activation_128 (Activation)  (None, 126, 126, 32)      0         \n",
            "_________________________________________________________________\n",
            "max_pooling2d_66 (MaxPooling (None, 63, 63, 32)        0         \n",
            "_________________________________________________________________\n",
            "conv2d_71 (Conv2D)           (None, 61, 61, 64)        18496     \n",
            "_________________________________________________________________\n",
            "activation_129 (Activation)  (None, 61, 61, 64)        0         \n",
            "_________________________________________________________________\n",
            "max_pooling2d_67 (MaxPooling (None, 30, 30, 64)        0         \n",
            "_________________________________________________________________\n",
            "conv2d_72 (Conv2D)           (None, 28, 28, 128)       73856     \n",
            "_________________________________________________________________\n",
            "activation_130 (Activation)  (None, 28, 28, 128)       0         \n",
            "_________________________________________________________________\n",
            "max_pooling2d_68 (MaxPooling (None, 14, 14, 128)       0         \n",
            "_________________________________________________________________\n",
            "flatten_30 (Flatten)         (None, 25088)             0         \n",
            "_________________________________________________________________\n",
            "dense_91 (Dense)             (None, 256)               6422784   \n",
            "_________________________________________________________________\n",
            "activation_131 (Activation)  (None, 256)               0         \n",
            "_________________________________________________________________\n",
            "dropout_72 (Dropout)         (None, 256)               0         \n",
            "_________________________________________________________________\n",
            "dense_92 (Dense)             (None, 64)                16448     \n",
            "_________________________________________________________________\n",
            "activation_132 (Activation)  (None, 64)                0         \n",
            "_________________________________________________________________\n",
            "dropout_73 (Dropout)         (None, 64)                0         \n",
            "_________________________________________________________________\n",
            "dense_93 (Dense)             (None, 1)                 65        \n",
            "_________________________________________________________________\n",
            "activation_133 (Activation)  (None, 1)                 0         \n",
            "=================================================================\n",
            "Total params: 6,532,545\n",
            "Trainable params: 6,532,545\n",
            "Non-trainable params: 0\n",
            "_________________________________________________________________\n"
          ]
        }
      ],
      "source": [
        "model2 = Sequential()\n",
        "model2.add(Conv2D(filters=32,kernel_size=(3,3),input_shape = (128,128,3)))\n",
        "model2.add(Activation(\"relu\"))\n",
        "model2.add(MaxPooling2D())\n",
        "\n",
        "model2.add(Conv2D(filters=64,kernel_size=(3,3)))  \n",
        "model2.add(Activation(\"relu\"))\n",
        "model2.add(MaxPooling2D())\n",
        "\n",
        "model2.add(Conv2D(filters=128,kernel_size=(3,3)))\n",
        "model2.add(Activation(\"relu\"))\n",
        "model2.add(MaxPooling2D())\n",
        "\n",
        "model2.add(Flatten())\n",
        "model2.add(Dense(256))\n",
        "model2.add(Activation(\"relu\"))\n",
        "model2.add(Dropout(0.5))\n",
        "model2.add(Dense(64))\n",
        "model2.add(Activation(\"relu\"))\n",
        "model2.add(Dropout(0.5))\n",
        "model2.add(Dense(1))\n",
        "model2.add(Activation(\"sigmoid\"))\n",
        "\n",
        "model2.compile(loss = \"binary_crossentropy\",\n",
        "              optimizer = \"adam\",\n",
        "              metrics = [\"accuracy\"])\n",
        "\n",
        "model2.summary()"
      ]
    },
    {
      "cell_type": "code",
      "execution_count": 36,
      "metadata": {},
      "outputs": [
        {
          "name": "stdout",
          "output_type": "stream",
          "text": [
            "Model: \"sequential_31\"\n",
            "_________________________________________________________________\n",
            "Layer (type)                 Output Shape              Param #   \n",
            "=================================================================\n",
            "conv2d_73 (Conv2D)           (None, 118, 118, 32)      11648     \n",
            "_________________________________________________________________\n",
            "activation_134 (Activation)  (None, 118, 118, 32)      0         \n",
            "_________________________________________________________________\n",
            "max_pooling2d_69 (MaxPooling (None, 59, 59, 32)        0         \n",
            "_________________________________________________________________\n",
            "conv2d_74 (Conv2D)           (None, 55, 55, 64)        51264     \n",
            "_________________________________________________________________\n",
            "activation_135 (Activation)  (None, 55, 55, 64)        0         \n",
            "_________________________________________________________________\n",
            "max_pooling2d_70 (MaxPooling (None, 27, 27, 64)        0         \n",
            "_________________________________________________________________\n",
            "conv2d_75 (Conv2D)           (None, 25, 25, 128)       73856     \n",
            "_________________________________________________________________\n",
            "activation_136 (Activation)  (None, 25, 25, 128)       0         \n",
            "_________________________________________________________________\n",
            "max_pooling2d_71 (MaxPooling (None, 12, 12, 128)       0         \n",
            "_________________________________________________________________\n",
            "flatten_31 (Flatten)         (None, 18432)             0         \n",
            "_________________________________________________________________\n",
            "dense_94 (Dense)             (None, 256)               4718848   \n",
            "_________________________________________________________________\n",
            "activation_137 (Activation)  (None, 256)               0         \n",
            "_________________________________________________________________\n",
            "dropout_74 (Dropout)         (None, 256)               0         \n",
            "_________________________________________________________________\n",
            "dense_95 (Dense)             (None, 64)                16448     \n",
            "_________________________________________________________________\n",
            "activation_138 (Activation)  (None, 64)                0         \n",
            "_________________________________________________________________\n",
            "dropout_75 (Dropout)         (None, 64)                0         \n",
            "_________________________________________________________________\n",
            "dense_96 (Dense)             (None, 1)                 65        \n",
            "_________________________________________________________________\n",
            "activation_139 (Activation)  (None, 1)                 0         \n",
            "=================================================================\n",
            "Total params: 4,872,129\n",
            "Trainable params: 4,872,129\n",
            "Non-trainable params: 0\n",
            "_________________________________________________________________\n"
          ]
        }
      ],
      "source": [
        "model3 = Sequential()\n",
        "model3.add(Conv2D(filters=32,kernel_size=(11,11),input_shape = (128,128,3)))\n",
        "model3.add(Activation(\"relu\"))\n",
        "model3.add(MaxPooling2D())\n",
        "\n",
        "model3.add(Conv2D(filters=64,kernel_size=(5,5)))  \n",
        "model3.add(Activation(\"relu\"))\n",
        "model3.add(MaxPooling2D())\n",
        "\n",
        "model3.add(Conv2D(filters=128,kernel_size=(3,3)))\n",
        "model3.add(Activation(\"relu\"))\n",
        "model3.add(MaxPooling2D())\n",
        "\n",
        "model3.add(Flatten())\n",
        "model3.add(Dense(256))\n",
        "model3.add(Activation(\"relu\"))\n",
        "model3.add(Dropout(0.5))\n",
        "model3.add(Dense(64))\n",
        "model3.add(Activation(\"relu\"))\n",
        "model3.add(Dropout(0.5))\n",
        "model3.add(Dense(1))\n",
        "model3.add(Activation(\"sigmoid\"))\n",
        "\n",
        "model3.compile(loss = \"binary_crossentropy\",\n",
        "              optimizer = \"adam\",\n",
        "              metrics = [\"accuracy\"])\n",
        "\n",
        "model3.summary()"
      ]
    },
    {
      "cell_type": "code",
      "execution_count": 37,
      "metadata": {},
      "outputs": [
        {
          "name": "stdout",
          "output_type": "stream",
          "text": [
            "Model: \"sequential_32\"\n",
            "_________________________________________________________________\n",
            "Layer (type)                 Output Shape              Param #   \n",
            "=================================================================\n",
            "conv2d_76 (Conv2D)           (None, 126, 126, 32)      896       \n",
            "_________________________________________________________________\n",
            "activation_140 (Activation)  (None, 126, 126, 32)      0         \n",
            "_________________________________________________________________\n",
            "max_pooling2d_72 (MaxPooling (None, 63, 63, 32)        0         \n",
            "_________________________________________________________________\n",
            "conv2d_77 (Conv2D)           (None, 59, 59, 64)        51264     \n",
            "_________________________________________________________________\n",
            "activation_141 (Activation)  (None, 59, 59, 64)        0         \n",
            "_________________________________________________________________\n",
            "max_pooling2d_73 (MaxPooling (None, 29, 29, 64)        0         \n",
            "_________________________________________________________________\n",
            "conv2d_78 (Conv2D)           (None, 19, 19, 128)       991360    \n",
            "_________________________________________________________________\n",
            "activation_142 (Activation)  (None, 19, 19, 128)       0         \n",
            "_________________________________________________________________\n",
            "max_pooling2d_74 (MaxPooling (None, 9, 9, 128)         0         \n",
            "_________________________________________________________________\n",
            "flatten_32 (Flatten)         (None, 10368)             0         \n",
            "_________________________________________________________________\n",
            "dense_97 (Dense)             (None, 256)               2654464   \n",
            "_________________________________________________________________\n",
            "activation_143 (Activation)  (None, 256)               0         \n",
            "_________________________________________________________________\n",
            "dropout_76 (Dropout)         (None, 256)               0         \n",
            "_________________________________________________________________\n",
            "dense_98 (Dense)             (None, 64)                16448     \n",
            "_________________________________________________________________\n",
            "activation_144 (Activation)  (None, 64)                0         \n",
            "_________________________________________________________________\n",
            "dropout_77 (Dropout)         (None, 64)                0         \n",
            "_________________________________________________________________\n",
            "dense_99 (Dense)             (None, 1)                 65        \n",
            "_________________________________________________________________\n",
            "activation_145 (Activation)  (None, 1)                 0         \n",
            "=================================================================\n",
            "Total params: 3,714,497\n",
            "Trainable params: 3,714,497\n",
            "Non-trainable params: 0\n",
            "_________________________________________________________________\n"
          ]
        }
      ],
      "source": [
        "model4 = Sequential()\n",
        "model4.add(Conv2D(filters=32,kernel_size=(3,3),input_shape = (128,128,3)))\n",
        "model4.add(Activation(\"relu\"))\n",
        "model4.add(MaxPooling2D())\n",
        "\n",
        "model4.add(Conv2D(filters=64,kernel_size=(5,5)))  \n",
        "model4.add(Activation(\"relu\"))\n",
        "model4.add(MaxPooling2D())\n",
        "\n",
        "model4.add(Conv2D(filters=128,kernel_size=(11,11)))\n",
        "model4.add(Activation(\"relu\"))\n",
        "model4.add(MaxPooling2D())\n",
        "\n",
        "model4.add(Flatten())\n",
        "model4.add(Dense(256))\n",
        "model4.add(Activation(\"relu\"))\n",
        "model4.add(Dropout(0.5))\n",
        "model4.add(Dense(64))\n",
        "model4.add(Activation(\"relu\"))\n",
        "model4.add(Dropout(0.5))\n",
        "model4.add(Dense(1))\n",
        "model4.add(Activation(\"sigmoid\"))\n",
        "\n",
        "model4.compile(loss = \"binary_crossentropy\",\n",
        "              optimizer = \"adam\",\n",
        "              metrics = [\"accuracy\"])\n",
        "\n",
        "model4.summary()"
      ]
    },
    {
      "cell_type": "code",
      "execution_count": 38,
      "metadata": {
        "colab": {
          "base_uri": "https://localhost:8080/",
          "height": 442
        },
        "id": "ez8sW6gz7qiB",
        "outputId": "fe9aa45c-1a85-482d-c3ab-83c571f9d276"
      },
      "outputs": [
        {
          "name": "stdout",
          "output_type": "stream",
          "text": [
            "Epoch 1/5\n",
            "79/79 [==============================] - 506s 6s/step - loss: 0.4790 - accuracy: 0.8043 - val_loss: 1.5385 - val_accuracy: 0.5506\n",
            "Epoch 2/5\n",
            "79/79 [==============================] - 483s 6s/step - loss: 0.4339 - accuracy: 0.8402 - val_loss: 0.5013 - val_accuracy: 0.7548\n",
            "Epoch 3/5\n",
            "79/79 [==============================] - 555s 7s/step - loss: 0.4151 - accuracy: 0.8466 - val_loss: 0.8332 - val_accuracy: 0.5068\n",
            "Epoch 4/5\n",
            "79/79 [==============================] - 619s 8s/step - loss: 0.3931 - accuracy: 0.8589 - val_loss: 0.6928 - val_accuracy: 0.6505\n",
            "Epoch 5/5\n",
            "79/79 [==============================] - 603s 8s/step - loss: 0.3747 - accuracy: 0.8696 - val_loss: 0.5401 - val_accuracy: 0.7273\n"
          ]
        }
      ],
      "source": [
        "callbacks_list=[tf.keras.callbacks.EarlyStopping(patience=3)]\n",
        "AlexNet.fit(train_datagen, \n",
        "          epochs=5,\n",
        "          validation_data = valid_datagen,\n",
        "           callbacks=callbacks_list)\n",
        "AlexNet.save('./MODEL/AlexNet.h5')"
      ]
    },
    {
      "cell_type": "code",
      "execution_count": 39,
      "metadata": {},
      "outputs": [
        {
          "name": "stdout",
          "output_type": "stream",
          "text": [
            "10/10 - 19s - loss: 0.6108 - accuracy: 0.6872\n"
          ]
        }
      ],
      "source": [
        "test_loss, test_acc = AlexNet.evaluate(test_datagen, verbose=2)"
      ]
    },
    {
      "cell_type": "code",
      "execution_count": 40,
      "metadata": {
        "colab": {
          "base_uri": "https://localhost:8080/",
          "height": 442
        },
        "id": "ez8sW6gz7qiB",
        "outputId": "fe9aa45c-1a85-482d-c3ab-83c571f9d276"
      },
      "outputs": [
        {
          "name": "stdout",
          "output_type": "stream",
          "text": [
            "Epoch 1/5\n",
            "79/79 [==============================] - 221s 3s/step - loss: 4.7618 - accuracy: 0.7380 - val_loss: 0.4245 - val_accuracy: 0.8328\n",
            "Epoch 2/5\n",
            "79/79 [==============================] - 195s 2s/step - loss: 0.4549 - accuracy: 0.8194 - val_loss: 0.3746 - val_accuracy: 0.8388\n",
            "Epoch 3/5\n",
            "79/79 [==============================] - 195s 2s/step - loss: 0.4110 - accuracy: 0.8323 - val_loss: 0.3921 - val_accuracy: 0.8304\n",
            "Epoch 4/5\n",
            "79/79 [==============================] - 227s 3s/step - loss: 0.3775 - accuracy: 0.8483 - val_loss: 0.3834 - val_accuracy: 0.8368\n",
            "Epoch 5/5\n",
            "79/79 [==============================] - 233s 3s/step - loss: 0.3535 - accuracy: 0.8615 - val_loss: 0.3791 - val_accuracy: 0.8443\n"
          ]
        }
      ],
      "source": [
        "callbacks_list=[tf.keras.callbacks.EarlyStopping(patience=3)]\n",
        "model0.fit(train_datagen, \n",
        "          epochs=5,\n",
        "          validation_data = valid_datagen,\n",
        "           callbacks=callbacks_list)\n",
        "model0.save('./MODEL/model0.h5')"
      ]
    },
    {
      "cell_type": "code",
      "execution_count": 41,
      "metadata": {},
      "outputs": [
        {
          "name": "stdout",
          "output_type": "stream",
          "text": [
            "10/10 - 10s - loss: 0.3492 - accuracy: 0.8778\n"
          ]
        }
      ],
      "source": [
        "test_loss, test_acc = model0.evaluate(test_datagen, verbose=2)"
      ]
    },
    {
      "cell_type": "code",
      "execution_count": 42,
      "metadata": {
        "colab": {
          "base_uri": "https://localhost:8080/",
          "height": 442
        },
        "id": "ez8sW6gz7qiB",
        "outputId": "fe9aa45c-1a85-482d-c3ab-83c571f9d276"
      },
      "outputs": [
        {
          "name": "stdout",
          "output_type": "stream",
          "text": [
            "Epoch 1/5\n",
            "79/79 [==============================] - 189s 2s/step - loss: 0.4765 - accuracy: 0.7861 - val_loss: 0.3560 - val_accuracy: 0.8340\n",
            "Epoch 2/5\n",
            "79/79 [==============================] - 187s 2s/step - loss: 0.4037 - accuracy: 0.8274 - val_loss: 0.3533 - val_accuracy: 0.8551\n",
            "Epoch 3/5\n",
            "79/79 [==============================] - 186s 2s/step - loss: 0.3732 - accuracy: 0.8439 - val_loss: 0.3741 - val_accuracy: 0.8658\n",
            "Epoch 4/5\n",
            "79/79 [==============================] - 192s 2s/step - loss: 0.3571 - accuracy: 0.8537 - val_loss: 0.3097 - val_accuracy: 0.8754\n",
            "Epoch 5/5\n",
            "79/79 [==============================] - 226s 3s/step - loss: 0.3332 - accuracy: 0.8637 - val_loss: 0.2993 - val_accuracy: 0.8762\n"
          ]
        }
      ],
      "source": [
        "callbacks_list=[tf.keras.callbacks.EarlyStopping(patience=3)]\n",
        "model1.fit(train_datagen, \n",
        "          epochs=5,\n",
        "          validation_data = valid_datagen,\n",
        "           callbacks=callbacks_list)\n",
        "model1.save('./MODEL/model1.h5')"
      ]
    },
    {
      "cell_type": "code",
      "execution_count": 43,
      "metadata": {},
      "outputs": [
        {
          "name": "stdout",
          "output_type": "stream",
          "text": [
            "10/10 - 8s - loss: 0.2810 - accuracy: 0.8890\n"
          ]
        }
      ],
      "source": [
        "test_loss, test_acc = model1.evaluate(test_datagen, verbose=2)"
      ]
    },
    {
      "cell_type": "code",
      "execution_count": 44,
      "metadata": {
        "colab": {
          "base_uri": "https://localhost:8080/",
          "height": 442
        },
        "id": "ez8sW6gz7qiB",
        "outputId": "fe9aa45c-1a85-482d-c3ab-83c571f9d276"
      },
      "outputs": [
        {
          "name": "stdout",
          "output_type": "stream",
          "text": [
            "Epoch 1/5\n",
            "79/79 [==============================] - 327s 4s/step - loss: 0.4970 - accuracy: 0.7750 - val_loss: 0.3924 - val_accuracy: 0.8169\n",
            "Epoch 2/5\n",
            "79/79 [==============================] - 322s 4s/step - loss: 0.4017 - accuracy: 0.8334 - val_loss: 0.3048 - val_accuracy: 0.8818\n",
            "Epoch 3/5\n",
            "79/79 [==============================] - 303s 4s/step - loss: 0.3656 - accuracy: 0.8497 - val_loss: 0.3021 - val_accuracy: 0.8754\n",
            "Epoch 4/5\n",
            "79/79 [==============================] - 302s 4s/step - loss: 0.3487 - accuracy: 0.8597 - val_loss: 0.3210 - val_accuracy: 0.8714\n",
            "Epoch 5/5\n",
            "79/79 [==============================] - 304s 4s/step - loss: 0.3247 - accuracy: 0.8704 - val_loss: 0.2789 - val_accuracy: 0.8925\n"
          ]
        }
      ],
      "source": [
        "callbacks_list=[tf.keras.callbacks.EarlyStopping(patience=3)]\n",
        "model2.fit(train_datagen, \n",
        "          epochs=5,\n",
        "          validation_data = valid_datagen,\n",
        "           callbacks=callbacks_list)\n",
        "model2.save('./MODEL/model2.h5')"
      ]
    },
    {
      "cell_type": "code",
      "execution_count": 45,
      "metadata": {},
      "outputs": [
        {
          "name": "stdout",
          "output_type": "stream",
          "text": [
            "10/10 - 11s - loss: 0.2826 - accuracy: 0.8985\n"
          ]
        }
      ],
      "source": [
        "test_loss, test_acc = model2.evaluate(test_datagen, verbose=2)"
      ]
    },
    {
      "cell_type": "code",
      "execution_count": 46,
      "metadata": {
        "colab": {
          "base_uri": "https://localhost:8080/",
          "height": 442
        },
        "id": "ez8sW6gz7qiB",
        "outputId": "fe9aa45c-1a85-482d-c3ab-83c571f9d276"
      },
      "outputs": [
        {
          "name": "stdout",
          "output_type": "stream",
          "text": [
            "Epoch 1/5\n",
            "79/79 [==============================] - 581s 7s/step - loss: 0.5690 - accuracy: 0.7175 - val_loss: 0.4017 - val_accuracy: 0.8037\n",
            "Epoch 2/5\n",
            "79/79 [==============================] - 561s 7s/step - loss: 0.4744 - accuracy: 0.7902 - val_loss: 0.3751 - val_accuracy: 0.8344\n",
            "Epoch 3/5\n",
            "79/79 [==============================] - 566s 7s/step - loss: 0.4580 - accuracy: 0.7987 - val_loss: 0.3623 - val_accuracy: 0.8388\n",
            "Epoch 4/5\n",
            "79/79 [==============================] - 553s 7s/step - loss: 0.4442 - accuracy: 0.8072 - val_loss: 0.3368 - val_accuracy: 0.8443\n",
            "Epoch 5/5\n",
            "79/79 [==============================] - 585s 7s/step - loss: 0.4238 - accuracy: 0.8178 - val_loss: 0.3565 - val_accuracy: 0.8531\n"
          ]
        }
      ],
      "source": [
        "callbacks_list=[tf.keras.callbacks.EarlyStopping(patience=3)]\n",
        "model3.fit(train_datagen, \n",
        "          epochs=5,\n",
        "          validation_data = valid_datagen,\n",
        "           callbacks=callbacks_list)\n",
        "model3.save('./MODEL/model3.h5')"
      ]
    },
    {
      "cell_type": "code",
      "execution_count": 47,
      "metadata": {},
      "outputs": [
        {
          "name": "stdout",
          "output_type": "stream",
          "text": [
            "10/10 - 19s - loss: 0.3383 - accuracy: 0.8671\n"
          ]
        }
      ],
      "source": [
        "test_loss, test_acc = model3.evaluate(test_datagen, verbose=2)"
      ]
    },
    {
      "cell_type": "code",
      "execution_count": 48,
      "metadata": {
        "colab": {
          "base_uri": "https://localhost:8080/",
          "height": 442
        },
        "id": "ez8sW6gz7qiB",
        "outputId": "fe9aa45c-1a85-482d-c3ab-83c571f9d276"
      },
      "outputs": [
        {
          "name": "stdout",
          "output_type": "stream",
          "text": [
            "Epoch 1/5\n",
            "79/79 [==============================] - 674s 9s/step - loss: 0.5485 - accuracy: 0.7352 - val_loss: 0.3432 - val_accuracy: 0.8388\n",
            "Epoch 2/5\n",
            "79/79 [==============================] - 633s 8s/step - loss: 0.4419 - accuracy: 0.8123 - val_loss: 0.3340 - val_accuracy: 0.8627\n",
            "Epoch 3/5\n",
            "79/79 [==============================] - 627s 8s/step - loss: 0.4039 - accuracy: 0.8312 - val_loss: 0.3355 - val_accuracy: 0.8515\n",
            "Epoch 4/5\n",
            "79/79 [==============================] - 634s 8s/step - loss: 0.3802 - accuracy: 0.8410 - val_loss: 0.3294 - val_accuracy: 0.8746\n",
            "Epoch 5/5\n",
            "79/79 [==============================] - 653s 8s/step - loss: 0.3642 - accuracy: 0.8511 - val_loss: 0.3133 - val_accuracy: 0.8718\n"
          ]
        }
      ],
      "source": [
        "callbacks_list=[tf.keras.callbacks.EarlyStopping(patience=3)]\n",
        "model4.fit(train_datagen, \n",
        "          epochs=5,\n",
        "          validation_data = valid_datagen,\n",
        "           callbacks=callbacks_list)\n",
        "model4.save('./MODEL/model4.h5')"
      ]
    },
    {
      "cell_type": "code",
      "execution_count": 49,
      "metadata": {},
      "outputs": [
        {
          "name": "stdout",
          "output_type": "stream",
          "text": [
            "10/10 - 23s - loss: 0.3349 - accuracy: 0.8627\n"
          ]
        }
      ],
      "source": [
        "test_loss, test_acc = model4.evaluate(test_datagen, verbose=2)"
      ]
    },
    {
      "cell_type": "code",
      "execution_count": 50,
      "metadata": {},
      "outputs": [],
      "source": [
        "# y_probs = model.predict_generator(test_datagen, np.math.ceil(test_datagen.samples//256)+1)\n",
        "# y_pred = np.zeros(y_probs.size)\n",
        "# for i in range (y_probs.size):\n",
        "#     if y_probs[i]>=0.5:\n",
        "#         y_pred[i]=1\n",
        "# print('Confusion Matrix')\n",
        "# print(confusion_matrix(test_datagen.classes, y_pred))\n",
        "# print('Classification Report')\n",
        "# target_names = ['O', 'R']\n",
        "# print(classification_report(test_datagen.classes, y_pred, \n",
        "# target_names=target_names))"
      ]
    }
  ],
  "metadata": {
    "accelerator": "TPU",
    "colab": {
      "collapsed_sections": [],
      "name": "CNNWasteManager.ipynb",
      "provenance": []
    },
    "interpreter": {
      "hash": "18c13a3a4fd733104d8fefc00880655363145dc4dcb0c775e2bc16fee5a78226"
    },
    "kernelspec": {
      "display_name": "Python 3.9.7 64-bit (windows store)",
      "name": "python3"
    },
    "language_info": {
      "codemirror_mode": {
        "name": "ipython",
        "version": 3
      },
      "file_extension": ".py",
      "mimetype": "text/x-python",
      "name": "python",
      "nbconvert_exporter": "python",
      "pygments_lexer": "ipython3",
      "version": "3.9.7"
    }
  },
  "nbformat": 4,
  "nbformat_minor": 0
}
